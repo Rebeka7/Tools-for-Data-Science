{
 "cells": [
  {
   "cell_type": "markdown",
   "id": "29e712ba-0ed2-498b-b767-a5863f64d41b",
   "metadata": {},
   "source": [
    "# Data science tools and ecosystem"
   ]
  },
  {
   "cell_type": "markdown",
   "id": "7581fbea-4229-46a2-85f6-58e8434d7415",
   "metadata": {},
   "source": [
    "In this notebook, Data Science Tools and Ecosystem are summarized."
   ]
  },
  {
   "cell_type": "markdown",
   "id": "948539d8-e1c2-4ef5-ad95-aa2c242ec751",
   "metadata": {},
   "source": [
    "<b> objectives </b>\n",
    "<ul>\n",
    "    <li>list popular languages for data science</li\n",
    "    <li>list popular languages for data science</li>\n",
    "    <li>list popular languages for data science</li>\n",
    "</ul>"
   ]
  },
  {
   "cell_type": "markdown",
   "id": "be2cfa69-f62b-4674-b9d2-0e6eec1a1e72",
   "metadata": {},
   "source": [
    "Some of the popular languages that Data Scientists use are:\n",
    "<ol>\n",
    "    <li>pyhton</li>\n",
    "    <li>SQL</li>\n",
    "    <li>Java</li>\n",
    "</ol>\n"
   ]
  },
  {
   "cell_type": "markdown",
   "id": "35d5083b-1904-4d03-a773-0b2969479101",
   "metadata": {},
   "source": [
    "Some of the commonly used libraries used by Data Scientists include:\n",
    "<ol>\n",
    "    <li>NumPy</li>\n",
    "    <li>pan</li>\n",
    "    <li>Matplotlib</li>\n",
    "</ol>"
   ]
  },
  {
   "cell_type": "markdown",
   "id": "41b80584-f26f-4e81-a44a-096f86191e17",
   "metadata": {},
   "source": [
    "<table>\n",
    "  <tr>\n",
    "    <th>Data Science Tools</th>\n",
    "  </tr>\n",
    "  <tr>\n",
    "    <td>visual studio code</td>\n",
    "  </tr>\n",
    "    <tr>\n",
    "    <td>git</td>\n",
    "    </tr>\n",
    "    <tr>\n",
    "    <td>eclipse</td>\n",
    "  </tr>\n",
    "</table>"
   ]
  },
  {
   "cell_type": "markdown",
   "id": "5c7b7faa-04f2-41f7-9166-5f760ec111d6",
   "metadata": {},
   "source": [
    "### Below are a few examples of evaluating arithmetic expressions in Python\n"
   ]
  },
  {
   "cell_type": "code",
   "execution_count": 4,
   "id": "24fbfbfd-7fc7-4cc7-b97c-bc04adca410c",
   "metadata": {},
   "outputs": [
    {
     "data": {
      "text/plain": [
       "17"
      ]
     },
     "execution_count": 4,
     "metadata": {},
     "output_type": "execute_result"
    }
   ],
   "source": [
    "# This a simple arithmetic expression to mutiply then add integers\n",
    "(3*4)+5"
   ]
  },
  {
   "cell_type": "code",
   "execution_count": 5,
   "id": "858691a5-6995-4411-bad4-4300b3e810dd",
   "metadata": {},
   "outputs": [
    {
     "data": {
      "text/plain": [
       "3.3333333333333335"
      ]
     },
     "execution_count": 5,
     "metadata": {},
     "output_type": "execute_result"
    }
   ],
   "source": [
    "# This will convert 200 minutes to hours by diving by 60\n",
    "200/60"
   ]
  },
  {
   "cell_type": "markdown",
   "id": "0ad14346-465c-4ffe-8286-596271d5e460",
   "metadata": {},
   "source": [
    "## Author \n",
    "Rebeka Frattolin"
   ]
  }
 ],
 "metadata": {
  "kernelspec": {
   "display_name": "Python 3 (ipykernel)",
   "language": "python",
   "name": "python3"
  },
  "language_info": {
   "codemirror_mode": {
    "name": "ipython",
    "version": 3
   },
   "file_extension": ".py",
   "mimetype": "text/x-python",
   "name": "python",
   "nbconvert_exporter": "python",
   "pygments_lexer": "ipython3",
   "version": "3.12.7"
  }
 },
 "nbformat": 4,
 "nbformat_minor": 5
}
